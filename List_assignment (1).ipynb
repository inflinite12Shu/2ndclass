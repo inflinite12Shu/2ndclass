{
  "nbformat": 4,
  "nbformat_minor": 0,
  "metadata": {
    "colab": {
      "provenance": []
    },
    "kernelspec": {
      "name": "python3",
      "display_name": "Python 3"
    },
    "language_info": {
      "name": "python"
    }
  },
  "cells": [
    {
      "cell_type": "markdown",
      "source": [
        "#Q1:\n",
        "sum the numbers in the list.\n",
        "[2,3,90,89,45,09]"
      ],
      "metadata": {
        "id": "7RwrVVKyyLBG"
      }
    },
    {
      "cell_type": "code",
      "execution_count": 19,
      "metadata": {
        "id": "DwqmnkAoxkXF",
        "colab": {
          "base_uri": "https://localhost:8080/"
        },
        "outputId": "038e7c92-e8ea-4e40-d354-5f7ac117511a"
      },
      "outputs": [
        {
          "output_type": "stream",
          "name": "stdout",
          "text": [
            "238\n"
          ]
        }
      ],
      "source": [
        "L1 = [2,3,90,89,45,9]\n",
        "total = sum(L1)\n",
        "print(total)"
      ]
    },
    {
      "cell_type": "markdown",
      "source": [
        "# Q2:\n",
        "Add the following data in list above.\n",
        "1. python\n",
        "2. 5.9\n",
        "3. follow\n",
        "4. [math, 20]\n",
        "5. [English,80]\n"
      ],
      "metadata": {
        "id": "vr61CX9syiL3"
      }
    },
    {
      "cell_type": "code",
      "source": [
        "py = ['python']\n",
        "num = [5.9]\n",
        "fo = ['follow']\n",
        "sub1 = ['math', 20]\n",
        "sub2 = ['English',80]\n",
        "l2 = py+num+fo+sub1+sub2\n",
        "print(l2)"
      ],
      "metadata": {
        "id": "zQzew7FlzCDX",
        "colab": {
          "base_uri": "https://localhost:8080/"
        },
        "outputId": "c3ae31dc-6aa0-4240-9bb4-ec5eb1861f7d"
      },
      "execution_count": 24,
      "outputs": [
        {
          "output_type": "stream",
          "name": "stdout",
          "text": [
            "['python', 5.9, 'follow', 'math', 20, 'English', 80]\n"
          ]
        }
      ]
    },
    {
      "cell_type": "markdown",
      "source": [
        "# Q 3:\n",
        "Remove the last element from the following list.\n",
        "\n",
        "[hyder,8,badin,67,50]"
      ],
      "metadata": {
        "id": "m4n1sBk8zDae"
      }
    },
    {
      "cell_type": "code",
      "source": [
        "l1 = ['hyder',8,'badin',67,50]\n",
        "l1.pop(-1)\n",
        "l1"
      ],
      "metadata": {
        "id": "29oVCt9mzUwx",
        "colab": {
          "base_uri": "https://localhost:8080/"
        },
        "outputId": "f79f1562-3cef-4174-f15a-f52fe369063d"
      },
      "execution_count": 30,
      "outputs": [
        {
          "output_type": "execute_result",
          "data": {
            "text/plain": [
              "['hyder', 8, 'badin', 67]"
            ]
          },
          "metadata": {},
          "execution_count": 30
        }
      ]
    },
    {
      "cell_type": "markdown",
      "source": [
        "#Q 4: \n",
        "Remove the Egg string from the list below.\n",
        "\n",
        "[flour,30,sugar,90,egg,2,salt,100,gold,10]"
      ],
      "metadata": {
        "id": "A95XSdYZzaB3"
      }
    },
    {
      "cell_type": "code",
      "source": [
        "l1 = ['flour',30,'sugar',90,'egg',2,'salt',100,'gold',10]\n",
        "l1.remove('egg')\n",
        "l1"
      ],
      "metadata": {
        "id": "HwjaEF2xzvs1",
        "colab": {
          "base_uri": "https://localhost:8080/"
        },
        "outputId": "c8d0f9c0-8567-4930-934f-63f429091742"
      },
      "execution_count": 36,
      "outputs": [
        {
          "output_type": "execute_result",
          "data": {
            "text/plain": [
              "['flour', 30, 'sugar', 90, 2, 'salt', 100, 'gold', 10]"
            ]
          },
          "metadata": {},
          "execution_count": 36
        }
      ]
    },
    {
      "cell_type": "markdown",
      "source": [
        "# Q5:\n",
        "Merge the lists from the following.\n",
        "\n",
        "list1 = [8,9,0,90,2,100]\n",
        "\n",
        "list2 = [1,2,3,4,5]"
      ],
      "metadata": {
        "id": "VK6WcIr3z0T_"
      }
    },
    {
      "cell_type": "code",
      "source": [
        "list1 = [8,9,0,90,2,100]\n",
        "\n",
        "list2 = [1,2,3,4,5]\n",
        "list1.append(list2)\n",
        "list1"
      ],
      "metadata": {
        "id": "4J93rxZp0Hid",
        "colab": {
          "base_uri": "https://localhost:8080/"
        },
        "outputId": "29ba52ec-7761-40cf-eb02-46d3470a8c20"
      },
      "execution_count": 38,
      "outputs": [
        {
          "output_type": "execute_result",
          "data": {
            "text/plain": [
              "[8, 9, 0, 90, 2, 100, [1, 2, 3, 4, 5]]"
            ]
          },
          "metadata": {},
          "execution_count": 38
        }
      ]
    },
    {
      "cell_type": "markdown",
      "source": [
        "# Q6:\n",
        "Make reverse list of following lists.\n",
        "\n",
        "1. [shaheen,badin,life,19,45]\n",
        "2. [get,fight,right,light,bright]\n",
        "3. [make,cake,sake, lake, bake]\n",
        "4. [30,80,90,08,9.5]"
      ],
      "metadata": {
        "id": "WDgC1uZi0IwA"
      }
    },
    {
      "cell_type": "code",
      "source": [
        "l1 = ['shaheen','badin','life',19,45]\n",
        "l2 = ['get','fight','right','light','bright']\n",
        "l3 = ['make','cake','sake', 'lake', 'bake']\n",
        "l4 = [30,80,90,8,9.5]\n",
        "print(l1 [::-1])\n",
        "print(l2 [::-1])\n",
        "print(l3 [::-1])\n",
        "print(l4 [::-1])"
      ],
      "metadata": {
        "id": "81D-yWKb0u-X",
        "colab": {
          "base_uri": "https://localhost:8080/"
        },
        "outputId": "5bbd1a7a-3b99-47f3-c61c-f56cf190abcb"
      },
      "execution_count": 45,
      "outputs": [
        {
          "output_type": "stream",
          "name": "stdout",
          "text": [
            "[45, 19, 'life', 'badin', 'shaheen']\n",
            "['bright', 'light', 'right', 'fight', 'get']\n",
            "['bake', 'lake', 'sake', 'cake', 'make']\n",
            "[9.5, 8, 90, 80, 30]\n"
          ]
        }
      ]
    },
    {
      "cell_type": "markdown",
      "source": [
        "# Q7:\n",
        "Create a nested list. list one will be main list list 2 will be nested list.\n",
        "\n",
        "list1 = [kite,flight,55,99,66]\n",
        "list2 = [great,56,pos,light,20]"
      ],
      "metadata": {
        "id": "DSO2XDAl0wNq"
      }
    },
    {
      "cell_type": "code",
      "source": [
        "list1 = ['kite','flight',55,99,66] \n",
        "list2 = ['great',56,'pos','light',20]\n",
        "main_list = [list1,list2]\n",
        "main_list"
      ],
      "metadata": {
        "id": "dnFizAmP1O21",
        "colab": {
          "base_uri": "https://localhost:8080/"
        },
        "outputId": "5973af17-4c5b-4e1a-c3de-ee216e9a4445"
      },
      "execution_count": 48,
      "outputs": [
        {
          "output_type": "execute_result",
          "data": {
            "text/plain": [
              "[['kite', 'flight', 55, 99, 66], ['great', 56, 'pos', 'light', 20]]"
            ]
          },
          "metadata": {},
          "execution_count": 48
        }
      ]
    },
    {
      "cell_type": "markdown",
      "source": [
        "# Q8:\n",
        "Extrate the \"pos\" from nested list."
      ],
      "metadata": {
        "id": "vMoGIzmb1QbK"
      }
    },
    {
      "cell_type": "code",
      "source": [
        "list1 = ['kite','flight',55,99,66] \n",
        "list2 = ['great',56,'pos','light',20]\n",
        "main_list = [list1,list2]\n",
        "list2.remove('pos')\n",
        "main_list\n"
      ],
      "metadata": {
        "id": "dcISZJSo1YSc",
        "colab": {
          "base_uri": "https://localhost:8080/"
        },
        "outputId": "789f11fe-c306-4ab8-a060-1b0236f3e410"
      },
      "execution_count": 84,
      "outputs": [
        {
          "output_type": "execute_result",
          "data": {
            "text/plain": [
              "[['kite', 'flight', 55, 99, 66], ['great', 56, 'light', 20]]"
            ]
          },
          "metadata": {},
          "execution_count": 84
        }
      ]
    },
    {
      "cell_type": "markdown",
      "source": [
        "#Q9:\n",
        "Sort the following lists in ascending order:\n",
        "\n",
        "1. [89,67,76,45,32,47,34,12,21]\n",
        "2. [r,f,t,g,y,w,c,v,k,q]"
      ],
      "metadata": {
        "id": "c2qnnSKB1Zq_"
      }
    },
    {
      "cell_type": "code",
      "source": [
        "l1 = [89,67,76,45,32,47,34,12,21]\n",
        "l2 = ['r','f','t','g','y','w','c','v','k','q']\n",
        "l1.reverse()\n",
        "l2.reverse()\n",
        "print(l1)\n",
        "print(l2)"
      ],
      "metadata": {
        "id": "NHnB-p8V129y",
        "colab": {
          "base_uri": "https://localhost:8080/"
        },
        "outputId": "b444db15-c1d3-41ac-c974-81c730ca755e"
      },
      "execution_count": 52,
      "outputs": [
        {
          "output_type": "stream",
          "name": "stdout",
          "text": [
            "[21, 12, 34, 47, 32, 45, 76, 67, 89]\n",
            "['q', 'k', 'v', 'c', 'w', 'y', 'g', 't', 'f', 'r']\n"
          ]
        }
      ]
    },
    {
      "cell_type": "markdown",
      "source": [
        "# Q10:\n",
        "Sort the Following lists in descending order.\n",
        "\n",
        "1. [10,5,45,33,9,190,54,34]\n",
        "2. [acdf,klmn,iops,wklm,npoi]"
      ],
      "metadata": {
        "id": "wa7Oedvh14ZQ"
      }
    },
    {
      "cell_type": "code",
      "source": [
        "l1 = [10,5,45,33,9,190,54,34]\n",
        "l2 = ['acdf','klmn','iops','wklm','npoi']\n",
        "l1 = sorted(l1, reverse=True)\n",
        "l2 = sorted(l2, reverse=True)\n",
        "print(l1)\n",
        "print(l2)"
      ],
      "metadata": {
        "colab": {
          "base_uri": "https://localhost:8080/"
        },
        "id": "mB0D8OKGFr2A",
        "outputId": "eeb5ad69-3268-4653-9744-e8617864c435"
      },
      "execution_count": 78,
      "outputs": [
        {
          "output_type": "stream",
          "name": "stdout",
          "text": [
            "[190, 54, 45, 34, 33, 10, 9, 5]\n",
            "['wklm', 'npoi', 'klmn', 'iops', 'acdf']\n"
          ]
        }
      ]
    }
  ]
}