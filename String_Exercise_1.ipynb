{
  "nbformat": 4,
  "nbformat_minor": 0,
  "metadata": {
    "colab": {
      "provenance": []
    },
    "kernelspec": {
      "name": "python3",
      "display_name": "Python 3"
    },
    "language_info": {
      "name": "python"
    }
  },
  "cells": [
    {
      "cell_type": "markdown",
      "source": [
        "**Exercise 1: Create a string made of the first, middle and last character**\n",
        "\n",
        "Write a program to create a new string made of an input string’s first, middle, and last character.\n",
        "\n",
        "Given:\n",
        "\n",
        "str1 = James\n",
        "\n",
        "Case 2 = Laptop"
      ],
      "metadata": {
        "id": "PCFy6eJSjBSr"
      }
    },
    {
      "cell_type": "code",
      "execution_count": 9,
      "metadata": {
        "id": "Ts6gTxqqivwk",
        "colab": {
          "base_uri": "https://localhost:8080/"
        },
        "outputId": "7042c9bb-988b-44df-9b26-ad845352c555"
      },
      "outputs": [
        {
          "output_type": "stream",
          "name": "stdout",
          "text": [
            "Jms\n"
          ]
        }
      ],
      "source": [
        "def new_string(str1):\n",
        "    f_str = str1[0]\n",
        "    m_str = str1[2]\n",
        "    l_str = str1[-1]\n",
        "    return f_str + m_str + l_str\n",
        "\n",
        "str1 = \"James\"\n",
        "print(new_string(str1))\n"
      ]
    },
    {
      "cell_type": "code",
      "source": [
        "def new_string(str1):\n",
        "    f_str = str1[0]\n",
        "    m_str = str1[2]\n",
        "    sm_str = str1[3]\n",
        "    l_str = str1[-1]\n",
        "    return f_str + m_str + sm_str + l_str\n",
        "\n",
        "str1 = \"Laptop\"\n",
        "print(new_string(str1))"
      ],
      "metadata": {
        "colab": {
          "base_uri": "https://localhost:8080/"
        },
        "id": "fisAPXFAlOLi",
        "outputId": "0d2dd1de-41f1-4dd9-ed84-7a4a3caa8e8b"
      },
      "execution_count": 8,
      "outputs": [
        {
          "output_type": "stream",
          "name": "stdout",
          "text": [
            "Lptp\n"
          ]
        }
      ]
    },
    {
      "cell_type": "markdown",
      "source": [
        "**Exercise 2: Create a string made of the middle three characters**\n",
        "\n",
        "Write a program to create a new string made of the middle three characters of an input string.\n",
        "\n",
        "Given:\n",
        "\n",
        "Case 1   \n",
        "str1 = JhonDipPeta\n",
        "\n",
        "Case 2 = Exercise"
      ],
      "metadata": {
        "id": "C_JoLj0q0fPn"
      }
    },
    {
      "cell_type": "code",
      "source": [
        "pass\n",
        "str1 = \"JhonDipPeta\"\n",
        "print(str1[4:7])"
      ],
      "metadata": {
        "id": "rD5xtKDC0vzZ",
        "colab": {
          "base_uri": "https://localhost:8080/"
        },
        "outputId": "05d77e7b-cdac-4d0c-bcf8-aedbf3274aa4"
      },
      "execution_count": 13,
      "outputs": [
        {
          "output_type": "stream",
          "name": "stdout",
          "text": [
            "Dip\n"
          ]
        }
      ]
    },
    {
      "cell_type": "markdown",
      "source": [
        "**Exercise 3: Create a new string made of the first, middle, and last characters of each input string**\n",
        "Given two strings, s1 and s2, write a program to return a new string made of s1 and s2’s first, middle, and last characters.\n",
        "\n",
        "Given:\n",
        "\n",
        "s1 = America\n",
        "\n",
        "s2 = Japan"
      ],
      "metadata": {
        "id": "73ej3SzU4xfH"
      }
    },
    {
      "cell_type": "code",
      "source": [
        "def string(s1, s2):\n",
        "   first_string1 = s1[0] \n",
        "   secend_string1 = s1[3] \n",
        "   thrend_string1 = s1[6]\n",
        "   first_string2 = s2[0] \n",
        "   scend_string2 = s2[2] \n",
        "   thrend_string2 = s2[4]\n",
        "   return  first_string1 + secend_string1 + thrend_string1 + first_string2 + scend_string2 + thrend_string2\n",
        "\n",
        "s1 = \"America\"\n",
        "s2 = \"Japan\"\n",
        "\n",
        "print(string(s1, s2))\n"
      ],
      "metadata": {
        "id": "r9Ksoozt43BK",
        "colab": {
          "base_uri": "https://localhost:8080/"
        },
        "outputId": "4d418f1f-3baf-4d9b-da3a-77345609ad66"
      },
      "execution_count": 7,
      "outputs": [
        {
          "output_type": "stream",
          "name": "stdout",
          "text": [
            "AraJpn\n"
          ]
        }
      ]
    },
    {
      "cell_type": "markdown",
      "source": [
        "**Exercise 4: Convert String character into uppercase\n",
        "\n",
        "Given:\n",
        "python"
      ],
      "metadata": {
        "id": "WAU9797-8nCc"
      }
    },
    {
      "cell_type": "code",
      "source": [
        "pass\n",
        "py = \"python\"\n",
        "print(py.upper())"
      ],
      "metadata": {
        "id": "RV_OtvWP8tzH",
        "colab": {
          "base_uri": "https://localhost:8080/"
        },
        "outputId": "c7e20bfc-ca94-4ddd-ac5f-bc64041aed63"
      },
      "execution_count": 52,
      "outputs": [
        {
          "output_type": "stream",
          "name": "stdout",
          "text": [
            "PYTHON\n"
          ]
        }
      ]
    },
    {
      "cell_type": "markdown",
      "source": [
        "**Exercise 5: Convert string into lower case.\n",
        "\n",
        "Given : PYTHON"
      ],
      "metadata": {
        "id": "g43Xiy8vNqYA"
      }
    },
    {
      "cell_type": "code",
      "source": [
        "pass\n",
        "py = \"PYTHON\"\n",
        "print(py.lower())\n",
        "\n"
      ],
      "metadata": {
        "id": "IOaVORIKN1p_",
        "colab": {
          "base_uri": "https://localhost:8080/"
        },
        "outputId": "7cfd0d53-8439-4997-886e-e92d4f9d7d3c"
      },
      "execution_count": 53,
      "outputs": [
        {
          "output_type": "stream",
          "name": "stdout",
          "text": [
            "python\n"
          ]
        }
      ]
    },
    {
      "cell_type": "markdown",
      "source": [
        "#**Exercise 6: Count number of \"S\" in the string.**\n",
        "\n",
        "Given: She Sells sea shells by the sea shores."
      ],
      "metadata": {
        "id": "yCAMF2PvSK4R"
      }
    },
    {
      "cell_type": "code",
      "source": [
        "pass\n",
        "sen = \"She Sells sea shells by the sea shores.\"\n",
        "print(sen.count(\"s\"))"
      ],
      "metadata": {
        "id": "oH-4cC5lSgxW",
        "colab": {
          "base_uri": "https://localhost:8080/"
        },
        "outputId": "218c3908-1d5d-44c7-e2f2-8a191e0544a5"
      },
      "execution_count": 58,
      "outputs": [
        {
          "output_type": "stream",
          "name": "stdout",
          "text": [
            "7\n"
          ]
        }
      ]
    },
    {
      "cell_type": "markdown",
      "source": [
        "# **Exercise 7: Join two strings**\n",
        "\n",
        "\n",
        "\n",
        "**Given:**\n",
        "\n",
        "Case 1:\n",
        "\n",
        "s1 = \"Yn\"\n",
        "s2 = \"PYnative\"\n",
        "\n",
        "Case 2:\n",
        "\n",
        "s1 = \"Ynf\"\n",
        "s2 = \"PYnative"
      ],
      "metadata": {
        "id": "7RkWPrViU8rP"
      }
    },
    {
      "cell_type": "code",
      "source": [
        "pass\n",
        "s1 = \"Yn\"\n",
        "s2 = \"PYnative\"\n",
        "\n",
        "s = s1 + s2\n",
        "print(s)"
      ],
      "metadata": {
        "id": "Muo3VlUUVOWA",
        "colab": {
          "base_uri": "https://localhost:8080/"
        },
        "outputId": "49412b9f-7936-4376-b0a8-6091117fa10e"
      },
      "execution_count": 59,
      "outputs": [
        {
          "output_type": "stream",
          "name": "stdout",
          "text": [
            "YnPYnative\n"
          ]
        }
      ]
    },
    {
      "cell_type": "code",
      "source": [
        "s1 = \"Ynf\"\n",
        "s2 = \"PYnative\"\n",
        "\n",
        "s = s1 + s2\n",
        "print(s)"
      ],
      "metadata": {
        "colab": {
          "base_uri": "https://localhost:8080/"
        },
        "id": "wc7a0UZFs0vX",
        "outputId": "18f1c9a6-2752-40ac-b72f-e10b258402b5"
      },
      "execution_count": 60,
      "outputs": [
        {
          "output_type": "stream",
          "name": "stdout",
          "text": [
            "YnfPYnative\n"
          ]
        }
      ]
    },
    {
      "cell_type": "markdown",
      "source": [
        "**Exercise 8: Find all occurrences of a substring in a given string by ignoring the case**\n",
        "\n",
        "Write a program to find all occurrences of “USA” in a given string ignoring the case.\n",
        "\n",
        "Given:\n",
        "\n",
        "str1 = \"Welcome to USA. usa awesome, isn't it?\""
      ],
      "metadata": {
        "id": "yJGL6oXEWzVv"
      }
    },
    {
      "cell_type": "code",
      "source": [
        "str1 = \"Welcome to USA. usa awesome, isn't it?\"\n",
        "\n",
        "substring = \"USA\"\n",
        "\n",
        "count = str1.upper().count(substring.upper())\n",
        "\n",
        "print(count)"
      ],
      "metadata": {
        "id": "tNC8c_jFXIB8",
        "colab": {
          "base_uri": "https://localhost:8080/"
        },
        "outputId": "290f6295-19c7-4a2c-8142-0d24b7c9a6bb"
      },
      "execution_count": 5,
      "outputs": [
        {
          "output_type": "stream",
          "name": "stdout",
          "text": [
            "2\n"
          ]
        }
      ]
    },
    {
      "cell_type": "code",
      "source": [
        "str1 = \"Welcome to USA. usa awesome, isn't it?\"\n",
        "print(str1.count(\"USA\"))"
      ],
      "metadata": {
        "colab": {
          "base_uri": "https://localhost:8080/"
        },
        "id": "ztmfjBgdCeZU",
        "outputId": "cef8ffff-f26e-4be0-d939-291d89cde4ba"
      },
      "execution_count": 6,
      "outputs": [
        {
          "output_type": "stream",
          "name": "stdout",
          "text": [
            "1\n"
          ]
        }
      ]
    },
    {
      "cell_type": "markdown",
      "source": [
        "**Exercise 9: Reverse a given string**\n",
        "\n",
        "Given:\n",
        "\n",
        "str1 = PYnative\n",
        "\n",
        "Str 2 = Badin\n",
        "\n",
        "Str 3 = Pakistan"
      ],
      "metadata": {
        "id": "k9mvX4OsYEE-"
      }
    },
    {
      "cell_type": "code",
      "source": [
        "pass\n",
        "str1 = \"PYnative\"\n",
        "str2 = \"Badin\"\n",
        "str3 = \"Pakistan\"\n",
        "\n",
        "\n",
        "print(str1[::-1])\n",
        "print(str2[::-1])\n",
        "print(str3[::-1])\n"
      ],
      "metadata": {
        "id": "JSpV60YCYNaG",
        "colab": {
          "base_uri": "https://localhost:8080/"
        },
        "outputId": "1552d887-1c83-46f5-d505-ee1a848d6d6f"
      },
      "execution_count": 11,
      "outputs": [
        {
          "output_type": "stream",
          "name": "stdout",
          "text": [
            "evitanYP\n",
            "nidaB\n",
            "natsikaP\n"
          ]
        }
      ]
    },
    {
      "cell_type": "markdown",
      "source": [
        "**Exercise 10: Find the  position of a given substring**\n",
        "\n",
        "Write a program to find the  position of a substring “Emma” in a given string.\n",
        "\n",
        "Given:\n",
        "\n",
        "str1 = \"Emma is a data scientist who knows Python. "
      ],
      "metadata": {
        "id": "Qxj3gjhiZdMc"
      }
    },
    {
      "cell_type": "code",
      "source": [
        "pass\n",
        "str1 = \"Emma is a data scientist who knows Python.\"\n",
        "print(str1.find(\"Emma\"))\n"
      ],
      "metadata": {
        "id": "XlsFf0j7Zqa7",
        "colab": {
          "base_uri": "https://localhost:8080/"
        },
        "outputId": "221bdef8-cd31-42b1-ed7f-ffeb627ef7db"
      },
      "execution_count": 11,
      "outputs": [
        {
          "output_type": "stream",
          "name": "stdout",
          "text": [
            "0\n"
          ]
        }
      ]
    },
    {
      "cell_type": "markdown",
      "source": [
        "**Exercise 11: Split a string on hyphens**\n",
        "\n",
        "Write a program to split a given string on hyphens and display each substring.\n",
        "\n",
        "Given:\n",
        "\n",
        "str1 = Emma-is-a-data-scientist"
      ],
      "metadata": {
        "id": "vN3srrpsaLqK"
      }
    },
    {
      "cell_type": "code",
      "source": [
        "pass\n",
        "str1 = \"Emma-is-a-data-scientist\"\n",
        "print(str1.split(\"-\"))"
      ],
      "metadata": {
        "id": "UMY8k4j9aWef",
        "colab": {
          "base_uri": "https://localhost:8080/"
        },
        "outputId": "2b6f1037-a662-4dec-b500-a38bf9038a5e"
      },
      "execution_count": 14,
      "outputs": [
        {
          "output_type": "stream",
          "name": "stdout",
          "text": [
            "['Emma', 'is', 'a', 'data', 'scientist']\n"
          ]
        }
      ]
    }
  ]
}